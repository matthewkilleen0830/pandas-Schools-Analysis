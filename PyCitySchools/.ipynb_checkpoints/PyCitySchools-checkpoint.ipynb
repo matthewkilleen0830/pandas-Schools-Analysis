{
 "cells": [
  {
   "cell_type": "markdown",
   "metadata": {},
   "source": [
    "# PyCitySchools"
   ]
  },
  {
   "cell_type": "code",
   "execution_count": null,
   "metadata": {},
   "outputs": [],
   "source": [
    "# Import dependencies\n",
    "import pandas as pd\n",
    "\n",
    "# Create references for each CSV file\n",
    "school_data_to_load = \"Resources/schools_complete.csv\"\n",
    "student_data_to_load = \"Resources/students_complete.csv\"\n",
    "\n",
    "# Read each CSV into a pandas dataframe\n",
    "school_data = pd.read_csv(school_data_to_load)\n",
    "student_data = pd.read_csv(student_data_to_load)\n",
    "\n",
    "# Combine each pandas dataframe into a single dataframe  \n",
    "complete_df = pd.merge(student_data, school_data, how=\"left\", on=[\"school_name\", \"school_name\"])"
   ]
  },
  {
   "cell_type": "code",
   "execution_count": null,
   "metadata": {},
   "outputs": [],
   "source": [
    "# Due diligence to look for any incomplete rows in merged dataframe\n",
    "complete_df.count()"
   ]
  },
  {
   "cell_type": "markdown",
   "metadata": {},
   "source": [
    "# District Summary"
   ]
  },
  {
   "cell_type": "code",
   "execution_count": null,
   "metadata": {},
   "outputs": [],
   "source": [
    "# Declare variables, count and calculate totals, and store values\n",
    "total_schools = school_data[\"School ID\"].count()\n",
    "total_students = student_data[\"Student ID\"].count()\n",
    "total_budget = school_data[\"budget\"].sum()"
   ]
  },
  {
   "cell_type": "code",
   "execution_count": null,
   "metadata": {},
   "outputs": [],
   "source": [
    "# Declare variables, calculate averages, and store values\n",
    "average_math = complete_df[\"math_score\"].mean()\n",
    "average_reading = complete_df[\"reading_score\"].mean()"
   ]
  },
  {
   "cell_type": "code",
   "execution_count": null,
   "metadata": {},
   "outputs": [],
   "source": [
    "# Create dataframes, declare variables, apply conditional statements using .loc, calculate percentages, and store values\n",
    "passing_math_scores = complete_df.loc[complete_df[\"math_score\"] >= 70, :]\n",
    "passed_math = passing_math_scores[\"Student ID\"].count()\n",
    "math_percentage = (passed_math / total_students) * 100\n",
    "\n",
    "passing_reading_scores = complete_df.loc[complete_df[\"reading_score\"] >= 70, :]\n",
    "passed_reading = passing_reading_scores[\"Student ID\"].count()\n",
    "reading_percentage = (passed_reading / total_students) * 100"
   ]
  },
  {
   "cell_type": "code",
   "execution_count": null,
   "metadata": {},
   "outputs": [],
   "source": [
    "# Create a dataframe and apply conditional statement using .loc to find students passing both math and reading\n",
    "passing_both = complete_df.loc[(complete_df[\"math_score\"] >= 70) & (complete_df[\"reading_score\"] >= 70), :]\n",
    "\n",
    "# Create variable, run a .count based on \"student ID\" column, and store value\n",
    "passed_both = passing_both[\"Student ID\"].count()"
   ]
  },
  {
   "cell_type": "code",
   "execution_count": null,
   "metadata": {},
   "outputs": [],
   "source": [
    "# Declare variable, calculate percentage, and store value\n",
    "passed_both_percentage = (passed_both / total_students) * 100"
   ]
  },
  {
   "cell_type": "code",
   "execution_count": null,
   "metadata": {},
   "outputs": [],
   "source": [
    "# Create a dataframe to hold the above results\n",
    "unformatted_df = pd.DataFrame({\"Total Schools\":[total_schools],\n",
    "                             \"Total Students\":[total_students],\n",
    "                             \"Total Budget\":[total_budget],\n",
    "                             \"Average Math Score\":[average_math],\n",
    "                             \"Average Reading Score\":[average_reading],\n",
    "                             \"% Passing Math\":[math_percentage],\n",
    "                             \"% Passing Reading\":[reading_percentage],\n",
    "                             \"% Overall Passing\":[passed_both_percentage]})"
   ]
  },
  {
   "cell_type": "code",
   "execution_count": null,
   "metadata": {},
   "outputs": [],
   "source": [
    "# Format the values for cleaner look in District Summary table\n",
    "unformatted_df[\"Total Students\"] = unformatted_df[\"Total Students\"].map(\"{:,}\".format)\n",
    "unformatted_df[\"Total Budget\"] = unformatted_df[\"Total Budget\"].map(\"${:,.2f}\".format)\n",
    "unformatted_df[\"Average Math Score\"] = unformatted_df[\"Average Math Score\"].map(\"{:,.4f}\".format)\n",
    "unformatted_df[\"Average Reading Score\"] = unformatted_df[\"Average Reading Score\"].map(\"{:,.4f}\".format)\n",
    "unformatted_df[\"% Passing Math\"] = unformatted_df[\"% Passing Math\"].map(\"{:,.2f}%\".format)\n",
    "unformatted_df[\"% Passing Reading\"] = unformatted_df[\"% Passing Reading\"].map(\"{:,.2f}%\".format)\n",
    "unformatted_df[\"% Overall Passing\"] = unformatted_df[\"% Overall Passing\"].map(\"{:,.2f}%\".format)\n",
    "\n",
    "# Print formatted District Summary table to display\n",
    "unformatted_df"
   ]
  },
  {
   "cell_type": "markdown",
   "metadata": {},
   "source": [
    "# School Summary"
   ]
  },
  {
   "cell_type": "code",
   "execution_count": null,
   "metadata": {},
   "outputs": [],
   "source": [
    "# Create a dataframe using name of school as index and sort it alphabetically by school name\n",
    "overview_df = school_data[[\"school_name\", \"type\", \"size\", \"budget\"]].set_index(\"school_name\").sort_values(\"school_name\")\n",
    "overview_df.index.name = None"
   ]
  },
  {
   "cell_type": "code",
   "execution_count": null,
   "metadata": {},
   "outputs": [],
   "source": [
    "# Create new dataframe with renamed columns for cleaner look using .rename\n",
    "renamed_overview_df = overview_df.rename(columns={\"school_name\":\"School Name\",\n",
    "                                                  \"type\":\"School Type\",\n",
    "                                                  \"size\":\"Total Students\",\n",
    "                                                  \"budget\":\"Total School Budget\"})\n",
    "renamed_overview_df.index.name = None"
   ]
  },
  {
   "cell_type": "code",
   "execution_count": null,
   "metadata": {},
   "outputs": [],
   "source": [
    "# Create series and declare variable, extract data from each row of dataframe, calculate Per Student Budget, and store values for new column\n",
    "students_per_school = complete_df['school_name'].value_counts()\n",
    "budget_per_school = complete_df.groupby(['school_name']).mean()['budget']\n",
    "budget_per_student = budget_per_school / students_per_school\n",
    "school_type = school_data.set_index(['school_name'])['type']"
   ]
  },
  {
   "cell_type": "code",
   "execution_count": null,
   "metadata": {},
   "outputs": [],
   "source": [
    "# Use .groupby on merged dataframe in order to separate the data into fields according to school name\n",
    "grouped_by_school_df = complete_df.groupby(\"school_name\")"
   ]
  },
  {
   "cell_type": "code",
   "execution_count": null,
   "metadata": {},
   "outputs": [],
   "source": [
    "# Create series, calculate averages by school using .mean, and store values\n",
    "per_school_math_average = grouped_by_school_df[\"math_score\"].mean()\n",
    "per_school_reading_average = grouped_by_school_df[\"reading_score\"].mean()"
   ]
  },
  {
   "cell_type": "code",
   "execution_count": null,
   "metadata": {},
   "outputs": [],
   "source": [
    "# Math scores per school\n",
    "\n",
    "# Create dataframe, apply conditional statement, and use .groupby on school name\n",
    "per_school_passing_math = complete_df[complete_df[\"math_score\"] >= 70].groupby([\"school_name\"])\n",
    "\n",
    "# Create series, run a .count on student ID to find those passing math, and calculate percentage\n",
    "per_school_passed_math = per_school_passing_math[\"Student ID\"].count()\n",
    "per_school_math_percentage = per_school_passed_math / students_per_school * 100"
   ]
  },
  {
   "cell_type": "code",
   "execution_count": null,
   "metadata": {},
   "outputs": [],
   "source": [
    "# Reading scores per school\n",
    "\n",
    "# Create dataframe, apply conditional statement, and use .groupby on school name\n",
    "per_school_passing_reading = complete_df[complete_df[\"reading_score\"] >= 70].groupby([\"school_name\"])\n",
    "\n",
    "# Create series, run a .count on student ID to find those passing reading, and calculate percentage\n",
    "per_school_passed_reading = per_school_passing_reading[\"Student ID\"].count()\n",
    "per_school_reading_percentage = per_school_passed_reading / students_per_school * 100"
   ]
  },
  {
   "cell_type": "code",
   "execution_count": null,
   "metadata": {},
   "outputs": [],
   "source": [
    "# Both math and reading scores per school\n",
    "\n",
    "# Create dataframe, apply conditional statement, and use .groupby on school name\n",
    "per_school_passing_both = complete_df[(complete_df[\"math_score\"] >= 70) & \n",
    "                                      (complete_df[\"reading_score\"] >= 70)].groupby([\"school_name\"])\n",
    "\n",
    "# Create series, run a .count on student ID to find those passing math and reading\n",
    "per_school_passed_both = per_school_passing_both[\"Student ID\"].count()\n",
    "\n",
    "# Create series, calculate percentage, and store value\n",
    "per_school_passed_both_percentage = per_school_passed_both / students_per_school * 100"
   ]
  },
  {
   "cell_type": "code",
   "execution_count": null,
   "metadata": {},
   "outputs": [],
   "source": [
    "# Create a dataframe to hold the above results\n",
    "unformatted_overview_df = pd.DataFrame({\"School Type\": school_type,\n",
    "                                        \"Total Students\":students_per_school,\n",
    "                                        \"Total School Budget\":budget_per_school,\n",
    "                                        \"Per Student Budget\":budget_per_student,\n",
    "                                        \"Average Math Score\":per_school_math_average,\n",
    "                                        \"Average Reading Score\":per_school_reading_average,\n",
    "                                        \"% Passing Math\":per_school_math_percentage,\n",
    "                                        \"% Passing Reading\":per_school_reading_percentage,\n",
    "                                        \"% Overall Passing\":per_school_passed_both_percentage})"
   ]
  },
  {
   "cell_type": "code",
   "execution_count": null,
   "metadata": {},
   "outputs": [],
   "source": [
    "# Append previously defined overview dataframe with new columns and respective values\n",
    "renamed_overview_df[\"Per Student Budget\"] = budget_per_student\n",
    "renamed_overview_df[\"Average Math Score\"] = per_school_math_average\n",
    "renamed_overview_df[\"Average Reading Score\"] = per_school_reading_average\n",
    "renamed_overview_df[\"% Passing Math\"] = per_school_math_percentage\n",
    "renamed_overview_df[\"% Passing Reading\"] = per_school_reading_percentage\n",
    "renamed_overview_df[\"% Overall Passing\"] = per_school_passed_both_percentage\n",
    "renamed_overview_df.index.name = None"
   ]
  },
  {
   "cell_type": "code",
   "execution_count": null,
   "metadata": {},
   "outputs": [],
   "source": [
    "# Format the values for cleaner look in School Summary table\n",
    "renamed_overview_df[\"Total Students\"] = renamed_overview_df[\"Total Students\"].map(\"{:,}\".format)\n",
    "renamed_overview_df[\"Total School Budget\"] = renamed_overview_df[\"Total School Budget\"].map(\"${:,.2f}\".format)\n",
    "renamed_overview_df[\"Per Student Budget\"] = renamed_overview_df[\"Per Student Budget\"].map(\"${:,.2f}\".format)\n",
    "renamed_overview_df[\"Average Math Score\"] = renamed_overview_df[\"Average Math Score\"].map(\"{:,.4f}\".format)\n",
    "renamed_overview_df[\"Average Reading Score\"] = renamed_overview_df[\"Average Reading Score\"].map(\"{:,.4f}\".format)\n",
    "renamed_overview_df[\"% Passing Math\"] = renamed_overview_df[\"% Passing Math\"].map(\"{:,.2f}%\".format)\n",
    "renamed_overview_df[\"% Passing Reading\"] = renamed_overview_df[\"% Passing Reading\"].map(\"{:,.2f}%\".format)\n",
    "renamed_overview_df[\"% Overall Passing\"] = renamed_overview_df[\"% Overall Passing\"].map(\"{:,.2f}%\".format)\n",
    "\n",
    "# Print formatted School Summary table to display\n",
    "renamed_overview_df"
   ]
  },
  {
   "cell_type": "markdown",
   "metadata": {},
   "source": [
    "# Top Performing Schools (by % Overall Passing)"
   ]
  },
  {
   "cell_type": "code",
   "execution_count": null,
   "metadata": {},
   "outputs": [],
   "source": [
    "# Sort and display the top five performing schools by % overall passing (ascending=False must be passed in to sort high to low)\n",
    "top_five_df = unformatted_overview_df.sort_values(\"% Overall Passing\", ascending = False)\n",
    "top_five_df.index.name = None"
   ]
  },
  {
   "cell_type": "code",
   "execution_count": null,
   "metadata": {
    "scrolled": true
   },
   "outputs": [],
   "source": [
    "# Format the values for cleaner look in Top Performing Schools table\n",
    "top_five_df[\"Total Students\"] = top_five_df[\"Total Students\"].map(\"{:,}\".format)\n",
    "top_five_df[\"Total School Budget\"] = top_five_df[\"Total School Budget\"].map(\"${:,.2f}\".format)\n",
    "top_five_df[\"Per Student Budget\"] = top_five_df[\"Per Student Budget\"].map(\"${:,.2f}\".format)\n",
    "top_five_df[\"Average Math Score\"] = top_five_df[\"Average Math Score\"].map(\"{:,.4f}\".format)\n",
    "top_five_df[\"Average Reading Score\"] = top_five_df[\"Average Reading Score\"].map(\"{:,.4f}\".format)\n",
    "top_five_df[\"% Passing Math\"] = top_five_df[\"% Passing Math\"].map(\"{:,.2f}%\".format)\n",
    "top_five_df[\"% Passing Reading\"] = top_five_df[\"% Passing Reading\"].map(\"{:,.2f}%\".format)\n",
    "top_five_df[\"% Overall Passing\"] = top_five_df[\"% Overall Passing\"].map(\"{:,.2f}%\".format)\n",
    "\n",
    "# Print Top Performing Schools table to display\n",
    "top_five_df.head(5)"
   ]
  },
  {
   "cell_type": "markdown",
   "metadata": {},
   "source": [
    "# Bottom Performing Schools (by % Overall Passing)"
   ]
  },
  {
   "cell_type": "code",
   "execution_count": null,
   "metadata": {},
   "outputs": [],
   "source": [
    "# Sort and display the bottom five performing schools by % overall passing (default sort is ascending)\n",
    "worst_five_df = unformatted_overview_df.sort_values(\"% Overall Passing\")\n",
    "worst_five_df.index.name = None"
   ]
  },
  {
   "cell_type": "code",
   "execution_count": null,
   "metadata": {},
   "outputs": [],
   "source": [
    "# Format the values for cleaner look in Bottom Performing Schools table\n",
    "worst_five_df[\"Total Students\"] = worst_five_df[\"Total Students\"].map(\"{:,}\".format)\n",
    "worst_five_df[\"Total School Budget\"] = worst_five_df[\"Total School Budget\"].map(\"${:,.2f}\".format)\n",
    "worst_five_df[\"Per Student Budget\"] = worst_five_df[\"Per Student Budget\"].map(\"${:,.2f}\".format)\n",
    "worst_five_df[\"Average Math Score\"] = worst_five_df[\"Average Math Score\"].map(\"{:,.4f}\".format)\n",
    "worst_five_df[\"Average Reading Score\"] = worst_five_df[\"Average Reading Score\"].map(\"{:,.4f}\".format)\n",
    "worst_five_df[\"% Passing Math\"] = worst_five_df[\"% Passing Math\"].map(\"{:,.2f}%\".format)\n",
    "worst_five_df[\"% Passing Reading\"] = worst_five_df[\"% Passing Reading\"].map(\"{:,.2f}%\".format)\n",
    "worst_five_df[\"% Overall Passing\"] = worst_five_df[\"% Overall Passing\"].map(\"{:,.2f}%\".format)\n",
    "\n",
    "# Print Bottom Performing Schools table to display\n",
    "worst_five_df.head(5)"
   ]
  },
  {
   "cell_type": "markdown",
   "metadata": {
    "collapsed": true
   },
   "source": [
    "# Math Scores by Grade"
   ]
  },
  {
   "cell_type": "code",
   "execution_count": null,
   "metadata": {},
   "outputs": [],
   "source": [
    "# Create a series for each grade\n",
    "# Use .groupby on complete dataframe in order to separate the data into fields according to \"grade\"\n",
    "freshman_math = complete_df.loc[complete_df[\"grade\"] == \"9th\"].groupby(\"school_name\")[\"math_score\"].mean()\n",
    "sophomore_math = complete_df.loc[complete_df[\"grade\"] == \"10th\"].groupby(\"school_name\")[\"math_score\"].mean()\n",
    "junior_math = complete_df.loc[complete_df[\"grade\"] == \"11th\"].groupby(\"school_name\")[\"math_score\"].mean()\n",
    "senior_math = complete_df.loc[complete_df[\"grade\"] == \"12th\"].groupby(\"school_name\")[\"math_score\"].mean()"
   ]
  },
  {
   "cell_type": "code",
   "execution_count": null,
   "metadata": {},
   "outputs": [],
   "source": [
    "# Create a dataframe using each series grouped by school name\n",
    "math_scores_df = pd.DataFrame({\"9th\":freshman_math,\n",
    "                               \"10th\":sophomore_math,\n",
    "                               \"11th\":junior_math,\n",
    "                               \"12th\":senior_math})\n",
    "math_scores_df.index.name = None"
   ]
  },
  {
   "cell_type": "code",
   "execution_count": null,
   "metadata": {},
   "outputs": [],
   "source": [
    "# Format the values for cleaner look in Math Scores by Grade table\n",
    "math_scores_df[\"9th\"] = math_scores_df[\"9th\"].map(\"{:,.4f}\".format)\n",
    "math_scores_df[\"10th\"] = math_scores_df[\"10th\"].map(\"{:,.4f}\".format)\n",
    "math_scores_df[\"11th\"] = math_scores_df[\"11th\"].map(\"{:,.4f}\".format)\n",
    "math_scores_df[\"12th\"] = math_scores_df[\"12th\"].map(\"{:,.4f}\".format)\n",
    "\n",
    "# Print formatted Math Scores by Grade table to display\n",
    "math_scores_df"
   ]
  },
  {
   "cell_type": "markdown",
   "metadata": {},
   "source": [
    "# Reading Score by Grade "
   ]
  },
  {
   "cell_type": "code",
   "execution_count": null,
   "metadata": {},
   "outputs": [],
   "source": [
    "# Create a series for each grade\n",
    "# Use .groupby on complete dataframe in order to separate the data into fields according to \"grade\"\n",
    "freshman_reading = complete_df.loc[complete_df[\"grade\"] == \"9th\"].groupby(\"school_name\")[\"reading_score\"].mean()\n",
    "sophomore_reading = complete_df.loc[complete_df[\"grade\"] == \"10th\"].groupby(\"school_name\")[\"reading_score\"].mean()\n",
    "junior_reading = complete_df.loc[complete_df[\"grade\"] == \"11th\"].groupby(\"school_name\")[\"reading_score\"].mean()\n",
    "senior_reading = complete_df.loc[complete_df[\"grade\"] == \"12th\"].groupby(\"school_name\")[\"reading_score\"].mean()"
   ]
  },
  {
   "cell_type": "code",
   "execution_count": null,
   "metadata": {},
   "outputs": [],
   "source": [
    "# Create dataframe using each series grouped by school name\n",
    "reading_scores_df = pd.DataFrame({\"9th\":freshman_reading,\n",
    "                                  \"10th\":sophomore_reading,\n",
    "                                  \"11th\":junior_reading,\n",
    "                                  \"12th\":senior_reading})\n",
    "reading_scores_df.index.name = None"
   ]
  },
  {
   "cell_type": "code",
   "execution_count": null,
   "metadata": {},
   "outputs": [],
   "source": [
    "# Format the values for cleaner look in Reading Scores by Grade table\n",
    "reading_scores_df[\"9th\"] = reading_scores_df[\"9th\"].map(\"{:,.4f}\".format)\n",
    "reading_scores_df[\"10th\"] = reading_scores_df[\"10th\"].map(\"{:,.4f}\".format)\n",
    "reading_scores_df[\"11th\"] = reading_scores_df[\"11th\"].map(\"{:,.4f}\".format)\n",
    "reading_scores_df[\"12th\"] = reading_scores_df[\"12th\"].map(\"{:,.4f}\".format)\n",
    "\n",
    "# Print formatted Reading Scores by Grade table to display\n",
    "reading_scores_df"
   ]
  },
  {
   "cell_type": "markdown",
   "metadata": {},
   "source": [
    "# Scores by School Spending"
   ]
  },
  {
   "cell_type": "code",
   "execution_count": null,
   "metadata": {},
   "outputs": [],
   "source": [
    "# Create new dataframe to hold values from School Summary dataframe\n",
    "scores_by_spending_df = unformatted_overview_df[[\"Average Math Score\",\"Average Reading Score\",\"% Passing Math\",\"% Passing Reading\",\"% Overall Passing\"]].copy()"
   ]
  },
  {
   "cell_type": "code",
   "execution_count": null,
   "metadata": {},
   "outputs": [],
   "source": [
    "# Create and name bins to group school spending\n",
    "bins = [0, 585, 630, 645, 680]\n",
    "bin_names = [\"<$585\", \"$585-$630\", \"$630-$645\", \"$645-$680\"]"
   ]
  },
  {
   "cell_type": "code",
   "execution_count": null,
   "metadata": {},
   "outputs": [],
   "source": [
    "# Create new column to display budget per student ranges (bins), slice the data, and place it into bins\n",
    "scores_by_spending_df[\"Budget Spending per Student\"] = pd.cut(budget_per_student, bins, labels = bin_names, right=False)\n",
    "\n",
    "# Groupby Budget Spending per Student and calculate averages\n",
    "scores_by_spending_df = scores_by_spending_df.groupby(\"Budget Spending per Student\").mean()"
   ]
  },
  {
   "cell_type": "code",
   "execution_count": null,
   "metadata": {},
   "outputs": [],
   "source": [
    "# Format the values for cleaner look in Scores by School Spending table\n",
    "scores_by_spending_df[\"Average Math Score\"] = scores_by_spending_df[\"Average Math Score\"].map(\"{:,.4f}\".format)\n",
    "scores_by_spending_df[\"Average Reading Score\"] = scores_by_spending_df[\"Average Reading Score\"].map(\"{:,.4f}\".format)\n",
    "scores_by_spending_df[\"% Passing Math\"] = scores_by_spending_df[\"% Passing Math\"].map(\"{:,.2f}%\".format)\n",
    "scores_by_spending_df[\"% Passing Reading\"] = scores_by_spending_df[\"% Passing Reading\"].map(\"{:,.2f}%\".format)\n",
    "scores_by_spending_df[\"% Overall Passing\"] = scores_by_spending_df[\"% Overall Passing\"].map(\"{:,.2f}%\".format)\n",
    "\n",
    "# Print Scores by School Spending table to display\n",
    "scores_by_spending_df"
   ]
  },
  {
   "cell_type": "markdown",
   "metadata": {},
   "source": [
    "# Scores by School Size"
   ]
  },
  {
   "cell_type": "code",
   "execution_count": null,
   "metadata": {},
   "outputs": [],
   "source": [
    "# Create new dataframe to hold values from School Summary dataframe\n",
    "scores_by_size_df = unformatted_overview_df[[\"Average Math Score\",\"Average Reading Score\",\"% Passing Math\",\"% Passing Reading\",\"% Overall Passing\"]].copy()"
   ]
  },
  {
   "cell_type": "code",
   "execution_count": null,
   "metadata": {
    "scrolled": true
   },
   "outputs": [],
   "source": [
    "# Create and name bins to group school spending\n",
    "size_bins = [0, 1000, 2000, 5000]\n",
    "size_bin_names = [\"Small (<1,000)\", \"Medium (1,000-2,000)\", \"Large (2,000-5,000)\"]"
   ]
  },
  {
   "cell_type": "code",
   "execution_count": null,
   "metadata": {},
   "outputs": [],
   "source": [
    "# Create new column to display budget per student ranges (bins), slice the data, and place it into bins\n",
    "scores_by_size_df[\"School Size\"] = pd.cut(students_per_school, size_bins, labels = size_bin_names, right=False)\n",
    "\n",
    "# Groupby School Size and calculate averages\n",
    "scores_by_size_df = scores_by_size_df.groupby(\"School Size\").mean()"
   ]
  },
  {
   "cell_type": "code",
   "execution_count": null,
   "metadata": {},
   "outputs": [],
   "source": [
    "# Format the values for cleaner look in Scores by School Size table\n",
    "scores_by_size_df[\"Average Math Score\"] = scores_by_size_df[\"Average Math Score\"].map(\"{:,.4f}\".format)\n",
    "scores_by_size_df[\"Average Reading Score\"] = scores_by_size_df[\"Average Reading Score\"].map(\"{:,.4f}\".format)\n",
    "scores_by_size_df[\"% Passing Math\"] = scores_by_size_df[\"% Passing Math\"].map(\"{:,.2f}%\".format)\n",
    "scores_by_size_df[\"% Passing Reading\"] = scores_by_size_df[\"% Passing Reading\"].map(\"{:,.2f}%\".format)\n",
    "scores_by_size_df[\"% Overall Passing\"] = scores_by_size_df[\"% Overall Passing\"].map(\"{:,.2f}%\".format)\n",
    "\n",
    "# Print Scores by School Size table to display\n",
    "scores_by_size_df"
   ]
  },
  {
   "cell_type": "markdown",
   "metadata": {},
   "source": [
    "# Scores by School Type"
   ]
  },
  {
   "cell_type": "code",
   "execution_count": null,
   "metadata": {},
   "outputs": [],
   "source": [
    "# Create new column to display budget per student ranges (bins), slice the data, and place it into bins\n",
    "math_type = unformatted_overview_df.groupby([\"School Type\"]).mean()[\"Average Math Score\"]\n",
    "reading_type = unformatted_overview_df.groupby([\"School Type\"]).mean()[\"Average Reading Score\"]\n",
    "type_math_percent = unformatted_overview_df.groupby([\"School Type\"]).mean()[\"% Passing Math\"]\n",
    "type_reading_percent = unformatted_overview_df.groupby([\"School Type\"]).mean()[\"% Passing Reading\"]\n",
    "type_overall_percent = unformatted_overview_df.groupby([\"School Type\"]).mean()[\"% Overall Passing\"]"
   ]
  },
  {
   "cell_type": "code",
   "execution_count": null,
   "metadata": {},
   "outputs": [],
   "source": [
    "# Create a summary dataframe\n",
    "school_type_summary_df = pd.DataFrame({\"Average Math Score\":math_type,\n",
    "                                       \"Average Reading Score\":reading_type,\n",
    "                                       \"% Passing Math\":type_math_percent,\n",
    "                                       \"% Passing Reading\":type_reading_percent,\n",
    "                                       \"% Overall Passing\":type_overall_percent})"
   ]
  },
  {
   "cell_type": "code",
   "execution_count": null,
   "metadata": {},
   "outputs": [],
   "source": [
    "# Format the values for cleaner look in Scores by School Type table\n",
    "school_type_summary_df[\"Average Math Score\"] = school_type_summary_df[\"Average Math Score\"].map(\"{:,.4f}\".format)\n",
    "school_type_summary_df[\"Average Reading Score\"] = school_type_summary_df[\"Average Reading Score\"].map(\"{:,.4f}\".format)\n",
    "school_type_summary_df[\"% Passing Math\"] = school_type_summary_df[\"% Passing Math\"].map(\"{:,.2f}%\".format)\n",
    "school_type_summary_df[\"% Passing Reading\"] = school_type_summary_df[\"% Passing Reading\"].map(\"{:,.2f}%\".format)\n",
    "school_type_summary_df[\"% Overall Passing\"] = school_type_summary_df[\"% Overall Passing\"].map(\"{:,.2f}%\".format)\n",
    "\n",
    "# Print Scores by School Type table to display\n",
    "school_type_summary_df"
   ]
  },
  {
   "cell_type": "code",
   "execution_count": null,
   "metadata": {},
   "outputs": [],
   "source": []
  }
 ],
 "metadata": {
  "anaconda-cloud": {},
  "kernel_info": {
   "name": "python3"
  },
  "kernelspec": {
   "display_name": "Python 3",
   "language": "python",
   "name": "python3"
  },
  "language_info": {
   "codemirror_mode": {
    "name": "ipython",
    "version": 3
   },
   "file_extension": ".py",
   "mimetype": "text/x-python",
   "name": "python",
   "nbconvert_exporter": "python",
   "pygments_lexer": "ipython3",
   "version": "3.6.10"
  },
  "latex_envs": {
   "LaTeX_envs_menu_present": true,
   "autoclose": false,
   "autocomplete": true,
   "bibliofile": "biblio.bib",
   "cite_by": "apalike",
   "current_citInitial": 1,
   "eqLabelWithNumbers": true,
   "eqNumInitial": 1,
   "hotkeys": {
    "equation": "Ctrl-E",
    "itemize": "Ctrl-I"
   },
   "labels_anchors": false,
   "latex_user_defs": false,
   "report_style_numbering": false,
   "user_envs_cfg": false
  },
  "nteract": {
   "version": "0.8.4"
  }
 },
 "nbformat": 4,
 "nbformat_minor": 1
}
