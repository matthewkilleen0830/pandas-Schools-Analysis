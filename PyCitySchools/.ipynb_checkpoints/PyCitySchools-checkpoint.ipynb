{
 "cells": [
  {
   "cell_type": "markdown",
   "metadata": {},
   "source": [
    "## PyCitySchools"
   ]
  },
  {
   "cell_type": "markdown",
   "metadata": {},
   "source": [
    "### Note\n",
    "* Instructions have been included for each segment. You do not have to follow them exactly, but they are included to help you think through the steps."
   ]
  },
  {
   "cell_type": "code",
   "execution_count": null,
   "metadata": {},
   "outputs": [],
   "source": [
    "# Import dependencies\n",
    "import pandas as pd\n",
    "\n",
    "# Create references for each CSV file\n",
    "school_data_to_load = \"Resources/schools_complete.csv\"\n",
    "student_data_to_load = \"Resources/students_complete.csv\"\n",
    "\n",
    "# Read each CSV into a pandas dataframe\n",
    "school_data = pd.read_csv(school_data_to_load)\n",
    "student_data = pd.read_csv(student_data_to_load)\n",
    "\n",
    "# Combine each pandas dataframe into a single dataframe  \n",
    "complete_df = pd.merge(student_data, school_data, how=\"left\", on=[\"school_name\", \"school_name\"])"
   ]
  },
  {
   "cell_type": "markdown",
   "metadata": {},
   "source": [
    "# District Summary\n",
    "\n",
    "* Calculate the total number of schools\n",
    "\n",
    "* Calculate the total number of students\n",
    "\n",
    "* Calculate the total budget\n",
    "\n",
    "* Calculate the average math score \n",
    "\n",
    "* Calculate the average reading score\n",
    "\n",
    "* Calculate the percentage of students with a passing math score (70 or greater)\n",
    "\n",
    "* Calculate the percentage of students with a passing reading score (70 or greater)\n",
    "\n",
    "* Calculate the percentage of students who passed math **and** reading (% Overall Passing)\n",
    "\n",
    "* Create a dataframe to hold the above results\n",
    "\n",
    "* Optional: give the displayed data cleaner formatting"
   ]
  },
  {
   "cell_type": "code",
   "execution_count": null,
   "metadata": {},
   "outputs": [],
   "source": [
    "# Due diligence to look for any incomplete rows?\n",
    "complete_df.count()"
   ]
  },
  {
   "cell_type": "code",
   "execution_count": null,
   "metadata": {},
   "outputs": [],
   "source": [
    "# Declare variables, count and calculate totals, and store values\n",
    "total_schools = school_data[\"School ID\"].count()\n",
    "total_students = student_data[\"Student ID\"].count()\n",
    "total_budget = school_data[\"budget\"].sum()"
   ]
  },
  {
   "cell_type": "code",
   "execution_count": null,
   "metadata": {},
   "outputs": [],
   "source": [
    "# Declare variables, calculate averages, and store values\n",
    "average_math = complete_df[\"math_score\"].mean()\n",
    "average_reading = complete_df[\"reading_score\"].mean()"
   ]
  },
  {
   "cell_type": "code",
   "execution_count": null,
   "metadata": {},
   "outputs": [],
   "source": [
    "# Declare variables, apply conditional statements using .loc, calculate percentages, and store values\n",
    "passing_math_scores = complete_df.loc[complete_df[\"math_score\"] >= 70, :]\n",
    "passed_math = passing_math_scores[\"Student ID\"].count()\n",
    "math_percentage = passed_math / total_students\n",
    "\n",
    "passing_reading_scores = complete_df.loc[complete_df[\"reading_score\"] >= 70, :]\n",
    "passed_reading = passing_reading_scores[\"Student ID\"].count()\n",
    "reading_percentage = passed_reading / total_students"
   ]
  },
  {
   "cell_type": "code",
   "execution_count": null,
   "metadata": {},
   "outputs": [],
   "source": [
    "# Declare variable, apply conditional statement using .loc, .count based on \"student ID\" column, and store value\n",
    "passing_both = complete_df.loc[(complete_df[\"math_score\"] >= 70) & (complete_df[\"reading_score\"] >= 70), :]\n",
    "passed_both = passing_both[\"Student ID\"].count()"
   ]
  },
  {
   "cell_type": "code",
   "execution_count": null,
   "metadata": {},
   "outputs": [],
   "source": [
    "# Declare variable, calculate percentage, and store value\n",
    "passed_both_percentage = passed_both / total_students"
   ]
  },
  {
   "cell_type": "code",
   "execution_count": null,
   "metadata": {},
   "outputs": [],
   "source": [
    "# Create a dataframe to hold the above results and print to screen\n",
    "unformatted_df = pd.DataFrame({\"Total Schools\":[total_schools],\n",
    "                               \"Total Students\":[total_students],\n",
    "                               \"Total Budget\":[total_budget],\n",
    "                               \"Average Math Score\":[average_math],\n",
    "                               \"Average Reading Score\":[average_reading],\n",
    "                               \"% Passing Math\":[math_percentage],\n",
    "                               \"% Passing Reading\":[reading_percentage],\n",
    "                               \"% Overall Passing\":[passed_both_percentage]})\n",
    "unformatted_df"
   ]
  },
  {
   "cell_type": "code",
   "execution_count": null,
   "metadata": {},
   "outputs": [],
   "source": [
    "# Use this cell to format values in unformatted_df ???  Or add formats to values in dataframe above"
   ]
  },
  {
   "cell_type": "markdown",
   "metadata": {},
   "source": [
    "## School Summary"
   ]
  },
  {
   "cell_type": "markdown",
   "metadata": {},
   "source": [
    "* Create an overview table that summarizes key metrics about each school, including:\n",
    "  * School Name\n",
    "  * School Type\n",
    "  * Total Students\n",
    "  * Total School Budget\n",
    "  * Per Student Budget\n",
    "  * Average Math Score\n",
    "  * Average Reading Score\n",
    "  * % Passing Math\n",
    "  * % Passing Reading\n",
    "  * % Overall Passing (The percentage of students that passed math **and** reading.)\n",
    "  \n",
    "* Create a dataframe to hold the above results"
   ]
  },
  {
   "cell_type": "code",
   "execution_count": null,
   "metadata": {},
   "outputs": [],
   "source": [
    "# Create new dataframe using name of school as index and sort it alphabetically\n",
    "overview_df = school_data[[\"school_name\", \"type\", \"size\", \"budget\"]].set_index(\"school_name\").sort_values(\"school_name\")\n",
    "overview_df.index.name = None\n",
    "overview_df"
   ]
  },
  {
   "cell_type": "code",
   "execution_count": null,
   "metadata": {},
   "outputs": [],
   "source": [
    "# Rename columns using .rename\n",
    "renamed_overview_df = overview_df.rename(columns={\"school_name\":\"School Name\",\n",
    "                                                  \"type\":\"School Type\",\n",
    "                                                  \"size\":\"Total Students\",\n",
    "                                                  \"budget\":\"Total School Budget\"})\n",
    "renamed_overview_df.index.name = None\n",
    "renamed_overview_df"
   ]
  },
  {
   "cell_type": "code",
   "execution_count": null,
   "metadata": {},
   "outputs": [],
   "source": [
    "# Declare variables, extract data from each row of dataframe, calculate Per Student Budget, and store values for new column\n",
    "students_per_school = renamed_overview_df[\"Total Students\"]\n",
    "budget_per_school = renamed_overview_df[\"Total School Budget\"]\n",
    "budget_per_student = budget_per_school / students_per_school\n",
    "budget_per_student"
   ]
  },
  {
   "cell_type": "code",
   "execution_count": null,
   "metadata": {},
   "outputs": [],
   "source": [
    "# Using GroupBy on complete dataframe in order to separate the data into fields according to school name\n",
    "grouped_by_school_df = complete_df.groupby(\"school_name\")\n",
    "grouped_by_school_df.head()"
   ]
  },
  {
   "cell_type": "code",
   "execution_count": null,
   "metadata": {},
   "outputs": [],
   "source": [
    "# Declare variables, calculate averages by school using .mean, and store values\n",
    "per_school_math_average = grouped_by_school_df[\"math_score\"].mean()\n",
    "per_school_reading_average = grouped_by_school_df[\"reading_score\"].mean()\n",
    "per_school_math_average"
   ]
  },
  {
   "cell_type": "code",
   "execution_count": null,
   "metadata": {},
   "outputs": [],
   "source": [
    "per_school_reading_average"
   ]
  },
  {
   "cell_type": "code",
   "execution_count": null,
   "metadata": {},
   "outputs": [],
   "source": [
    "# Declare variable, count number of students per school, and store values\n",
    "per_school_total_students = grouped_by_school_df[\"Student ID\"].count()\n",
    "per_school_total_students"
   ]
  },
  {
   "cell_type": "code",
   "execution_count": null,
   "metadata": {},
   "outputs": [],
   "source": [
    "# Math scores per school\n",
    "# Declare variables, apply conditional statements, calculate percentages, and store values\n",
    "per_school_passing_math = complete_df[complete_df[\"math_score\"] >= 70].groupby([\"school_name\"])\n",
    "per_school_passed_math = per_school_passing_math[\"Student ID\"].count()\n",
    "per_school_math_percentage = per_school_passed_math / per_school_total_students\n",
    "per_school_math_percentage"
   ]
  },
  {
   "cell_type": "code",
   "execution_count": null,
   "metadata": {},
   "outputs": [],
   "source": [
    "# Reading scores per school\n",
    "# Declare variables, apply conditional statements, calculate percentages, and store values\n",
    "per_school_passing_reading = complete_df[complete_df[\"reading_score\"] >= 70].groupby([\"school_name\"])\n",
    "per_school_passed_reading = per_school_passing_reading[\"Student ID\"].count()\n",
    "per_school_reading_percentage = per_school_passed_reading / per_school_total_students\n",
    "per_school_reading_percentage"
   ]
  },
  {
   "cell_type": "code",
   "execution_count": null,
   "metadata": {},
   "outputs": [],
   "source": [
    "# Both math and reading scores per school\n",
    "# Declare variable, apply conditional statement, and store value\n",
    "per_school_passing_both = complete_df[(complete_df[\"math_score\"] >= 70) & \n",
    "                                      (complete_df[\"reading_score\"] >= 70)].groupby([\"school_name\"])\n",
    "per_school_passed_both = per_school_passing_both[\"Student ID\"].count()\n",
    "\n",
    "# Declare variable, calculate percentage, and store value\n",
    "per_school_passed_both_percentage = per_school_passed_both / per_school_total_students\n",
    "per_school_passed_both_percentage"
   ]
  },
  {
   "cell_type": "code",
   "execution_count": null,
   "metadata": {},
   "outputs": [],
   "source": [
    "# Append previously defined overview dataframe with new columns and respective values\n",
    "renamed_overview_df[\"Per Student Budget\"] = budget_per_student\n",
    "renamed_overview_df[\"Average Math Score\"] = per_school_math_average\n",
    "renamed_overview_df[\"Average Reading Score\"] = per_school_reading_average\n",
    "renamed_overview_df[\"% Passing Math\"] = per_school_math_percentage\n",
    "renamed_overview_df[\"% Passing Reading\"] = per_school_reading_percentage\n",
    "renamed_overview_df[\"% Overall Passing\"] = per_school_passed_both_percentage\n",
    "renamed_overview_df.index.name = None\n",
    "renamed_overview_df"
   ]
  },
  {
   "cell_type": "code",
   "execution_count": null,
   "metadata": {},
   "outputs": [],
   "source": [
    "# Use this cell to format values in renamed_overview_df ???  Or add formats to values in dataframe above"
   ]
  },
  {
   "cell_type": "markdown",
   "metadata": {},
   "source": [
    "## Top Performing Schools (By % Overall Passing)"
   ]
  },
  {
   "cell_type": "markdown",
   "metadata": {},
   "source": [
    "* Sort and display the top five performing schools by % overall passing."
   ]
  },
  {
   "cell_type": "code",
   "execution_count": null,
   "metadata": {
    "scrolled": true
   },
   "outputs": [],
   "source": [
    "# Sort and display the top five performing schools by % overall passing (ascending=False must be passed in to sort high to low)\n",
    "top_five_df = renamed_overview_df.sort_values(\"% Overall Passing\", ascending = False)\n",
    "top_five_df.index.name = None\n",
    "top_five_df.head(5)"
   ]
  },
  {
   "cell_type": "markdown",
   "metadata": {},
   "source": [
    "## Bottom Performing Schools (By % Overall Passing)"
   ]
  },
  {
   "cell_type": "markdown",
   "metadata": {},
   "source": [
    "* Sort and display the five worst-performing schools by % overall passing."
   ]
  },
  {
   "cell_type": "code",
   "execution_count": null,
   "metadata": {},
   "outputs": [],
   "source": [
    "# Sort and display the worst five performing schools by % overall passing (default sort is ascending)\n",
    "worst_five_df = renamed_overview_df.sort_values(\"% Overall Passing\")\n",
    "worst_five_df.index.name = None\n",
    "worst_five_df.head(5)"
   ]
  },
  {
   "cell_type": "markdown",
   "metadata": {
    "collapsed": true
   },
   "source": [
    "## Math Scores by Grade"
   ]
  },
  {
   "cell_type": "markdown",
   "metadata": {},
   "source": [
    "* Create a table that lists the average math Score for students of each grade level (9th, 10th, 11th, 12th) at each school.\n",
    "\n",
    "  * Create a pandas series for each grade. Hint: use a conditional statement.\n",
    "  \n",
    "  * Group each series by school\n",
    "  \n",
    "  * Combine the series into a dataframe\n",
    "  \n",
    "  * Optional: give the displayed data cleaner formatting"
   ]
  },
  {
   "cell_type": "code",
   "execution_count": null,
   "metadata": {},
   "outputs": [],
   "source": [
    "# Create a pandas series for each grade\n",
    "# Using GroupBy on complete dataframe in order to separate the data into fields according to \"grade\""
   ]
  },
  {
   "cell_type": "markdown",
   "metadata": {},
   "source": [
    "## Reading Score by Grade "
   ]
  },
  {
   "cell_type": "markdown",
   "metadata": {},
   "source": [
    "* Perform the same operations as above for reading scores"
   ]
  },
  {
   "cell_type": "code",
   "execution_count": null,
   "metadata": {},
   "outputs": [],
   "source": []
  },
  {
   "cell_type": "markdown",
   "metadata": {},
   "source": [
    "## Scores by School Spending"
   ]
  },
  {
   "cell_type": "markdown",
   "metadata": {},
   "source": [
    "* Create a table that breaks down school performances based on average Spending Ranges (Per Student). Use 4 reasonable bins to group school spending. Include in the table each of the following:\n",
    "  * Average Math Score\n",
    "  * Average Reading Score\n",
    "  * % Passing Math\n",
    "  * % Passing Reading\n",
    "  * Overall Passing Rate (Average of the above two)"
   ]
  },
  {
   "cell_type": "code",
   "execution_count": null,
   "metadata": {},
   "outputs": [],
   "source": []
  },
  {
   "cell_type": "markdown",
   "metadata": {},
   "source": [
    "## Scores by School Size"
   ]
  },
  {
   "cell_type": "markdown",
   "metadata": {},
   "source": [
    "* Perform the same operations as above, based on school size."
   ]
  },
  {
   "cell_type": "code",
   "execution_count": null,
   "metadata": {
    "scrolled": true
   },
   "outputs": [],
   "source": []
  },
  {
   "cell_type": "markdown",
   "metadata": {},
   "source": [
    "## Scores by School Type"
   ]
  },
  {
   "cell_type": "markdown",
   "metadata": {},
   "source": [
    "* Perform the same operations as above, based on school type"
   ]
  },
  {
   "cell_type": "code",
   "execution_count": null,
   "metadata": {},
   "outputs": [],
   "source": []
  },
  {
   "cell_type": "code",
   "execution_count": null,
   "metadata": {},
   "outputs": [],
   "source": []
  }
 ],
 "metadata": {
  "anaconda-cloud": {},
  "kernel_info": {
   "name": "python3"
  },
  "kernelspec": {
   "display_name": "Python 3",
   "language": "python",
   "name": "python3"
  },
  "language_info": {
   "codemirror_mode": {
    "name": "ipython",
    "version": 3
   },
   "file_extension": ".py",
   "mimetype": "text/x-python",
   "name": "python",
   "nbconvert_exporter": "python",
   "pygments_lexer": "ipython3",
   "version": "3.6.10"
  },
  "latex_envs": {
   "LaTeX_envs_menu_present": true,
   "autoclose": false,
   "autocomplete": true,
   "bibliofile": "biblio.bib",
   "cite_by": "apalike",
   "current_citInitial": 1,
   "eqLabelWithNumbers": true,
   "eqNumInitial": 1,
   "hotkeys": {
    "equation": "Ctrl-E",
    "itemize": "Ctrl-I"
   },
   "labels_anchors": false,
   "latex_user_defs": false,
   "report_style_numbering": false,
   "user_envs_cfg": false
  },
  "nteract": {
   "version": "0.8.4"
  }
 },
 "nbformat": 4,
 "nbformat_minor": 1
}
