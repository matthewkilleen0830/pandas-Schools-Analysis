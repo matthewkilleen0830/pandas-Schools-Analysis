{
 "cells": [
  {
   "cell_type": "markdown",
   "metadata": {},
   "source": [
    "# PyCitySchools"
   ]
  },
  {
   "cell_type": "markdown",
   "metadata": {},
   "source": [
    "### Note\n",
    "* Instructions have been included for each segment. You do not have to follow them exactly, but they are included to help you think through the steps."
   ]
  },
  {
   "cell_type": "code",
   "execution_count": null,
   "metadata": {},
   "outputs": [],
   "source": [
    "# Import dependencies\n",
    "import pandas as pd\n",
    "\n",
    "# Create references for each CSV file\n",
    "school_data_to_load = \"Resources/schools_complete.csv\"\n",
    "student_data_to_load = \"Resources/students_complete.csv\"\n",
    "\n",
    "# Read each CSV into a pandas dataframe\n",
    "school_data = pd.read_csv(school_data_to_load)\n",
    "student_data = pd.read_csv(student_data_to_load)\n",
    "\n",
    "# Combine each pandas dataframe into a single dataframe  \n",
    "complete_df = pd.merge(student_data, school_data, how=\"left\", on=[\"school_name\", \"school_name\"])"
   ]
  },
  {
   "cell_type": "markdown",
   "metadata": {},
   "source": [
    "# District Summary\n",
    "\n",
    "* Calculate the total number of schools\n",
    "\n",
    "* Calculate the total number of students\n",
    "\n",
    "* Calculate the total budget\n",
    "\n",
    "* Calculate the average math score \n",
    "\n",
    "* Calculate the average reading score\n",
    "\n",
    "* Calculate the percentage of students with a passing math score (70 or greater)\n",
    "\n",
    "* Calculate the percentage of students with a passing reading score (70 or greater)\n",
    "\n",
    "* Calculate the percentage of students who passed math **and** reading (% Overall Passing)\n",
    "\n",
    "* Create a dataframe to hold the above results\n",
    "\n",
    "* Optional: give the displayed data cleaner formatting"
   ]
  },
  {
   "cell_type": "code",
   "execution_count": null,
   "metadata": {},
   "outputs": [],
   "source": [
    "# Due diligence to look for any incomplete rows?\n",
    "complete_df.count()"
   ]
  },
  {
   "cell_type": "code",
   "execution_count": null,
   "metadata": {},
   "outputs": [],
   "source": [
    "# Declare variables, count and calculate totals, and store values\n",
    "total_schools = school_data[\"School ID\"].count()\n",
    "total_students = student_data[\"Student ID\"].count()\n",
    "total_budget = school_data[\"budget\"].sum()"
   ]
  },
  {
   "cell_type": "code",
   "execution_count": null,
   "metadata": {},
   "outputs": [],
   "source": [
    "# Declare variables, calculate averages, and store values\n",
    "average_math = complete_df[\"math_score\"].mean()\n",
    "average_reading = complete_df[\"reading_score\"].mean()"
   ]
  },
  {
   "cell_type": "code",
   "execution_count": null,
   "metadata": {},
   "outputs": [],
   "source": [
    "# Create dataframes, declare variables, apply conditional statements using .loc, calculate percentages, and store values\n",
    "passing_math_scores = complete_df.loc[complete_df[\"math_score\"] >= 70, :]\n",
    "passed_math = passing_math_scores[\"Student ID\"].count()\n",
    "math_percentage = (passed_math / total_students) * 100\n",
    "\n",
    "passing_reading_scores = complete_df.loc[complete_df[\"reading_score\"] >= 70, :]\n",
    "passed_reading = passing_reading_scores[\"Student ID\"].count()\n",
    "reading_percentage = (passed_reading / total_students) * 100"
   ]
  },
  {
   "cell_type": "code",
   "execution_count": null,
   "metadata": {},
   "outputs": [],
   "source": [
    "# Create dataframe, declare variable, apply conditional statement using .loc, \n",
    "# Run a .count based on \"student ID\" column, and store value\n",
    "passing_both = complete_df.loc[(complete_df[\"math_score\"] >= 70) & (complete_df[\"reading_score\"] >= 70), :]\n",
    "passed_both = passing_both[\"Student ID\"].count()"
   ]
  },
  {
   "cell_type": "code",
   "execution_count": null,
   "metadata": {},
   "outputs": [],
   "source": [
    "# Declare variable, calculate percentage, and store value\n",
    "passed_both_percentage = (passed_both / total_students) * 100"
   ]
  },
  {
   "cell_type": "code",
   "execution_count": null,
   "metadata": {},
   "outputs": [],
   "source": [
    "# Create a dataframe to hold the above results\n",
    "formatted_df = pd.DataFrame({\"Total Schools\":[total_schools],\n",
    "                               \"Total Students\":[total_students],\n",
    "                               \"Total Budget\":[total_budget],\n",
    "                               \"Average Math Score\":[average_math],\n",
    "                               \"Average Reading Score\":[average_reading],\n",
    "                               \"% Passing Math\":[math_percentage],\n",
    "                               \"% Passing Reading\":[reading_percentage],\n",
    "                               \"% Overall Passing\":[passed_both_percentage]})"
   ]
  },
  {
   "cell_type": "code",
   "execution_count": null,
   "metadata": {},
   "outputs": [],
   "source": [
    "# Format the values for cleaner look in final District Summary table\n",
    "formatted_df[\"Total Students\"] = formatted_df[\"Total Students\"].map(\"{:,}\".format)\n",
    "formatted_df[\"Total Budget\"] = formatted_df[\"Total Budget\"].map(\"${:,}\".format)\n",
    "formatted_df[\"Average Math Score\"] = formatted_df[\"Average Math Score\"].map(\"{:,.4f}\".format)\n",
    "formatted_df[\"Average Reading Score\"] = formatted_df[\"Average Reading Score\"].map(\"{:,.4f}\".format)\n",
    "formatted_df[\"% Passing Math\"] = formatted_df[\"% Passing Math\"].map(\"{:,.2f}%\".format)\n",
    "formatted_df[\"% Passing Reading\"] = formatted_df[\"% Passing Reading\"].map(\"{:,.2f}%\".format)\n",
    "formatted_df[\"% Overall Passing\"] = formatted_df[\"% Overall Passing\"].map(\"{:,.2f}%\".format)"
   ]
  },
  {
   "cell_type": "code",
   "execution_count": null,
   "metadata": {},
   "outputs": [],
   "source": [
    "# Print District Summary table to display\n",
    "formatted_df"
   ]
  },
  {
   "cell_type": "markdown",
   "metadata": {},
   "source": [
    "## School Summary"
   ]
  },
  {
   "cell_type": "markdown",
   "metadata": {},
   "source": [
    "* Create an overview table that summarizes key metrics about each school, including:\n",
    "  * School Name\n",
    "  * School Type\n",
    "  * Total Students\n",
    "  * Total School Budget\n",
    "  * Per Student Budget\n",
    "  * Average Math Score\n",
    "  * Average Reading Score\n",
    "  * % Passing Math\n",
    "  * % Passing Reading\n",
    "  * % Overall Passing (The percentage of students that passed math **and** reading.)\n",
    "  \n",
    "* Create a dataframe to hold the above results"
   ]
  },
  {
   "cell_type": "code",
   "execution_count": null,
   "metadata": {},
   "outputs": [],
   "source": [
    "# Create dataframe using name of school as index and sort it alphabetically by school name\n",
    "overview_df = school_data[[\"school_name\", \"type\", \"size\", \"budget\"]].set_index(\"school_name\").sort_values(\"school_name\")\n",
    "overview_df.index.name = None\n",
    "# overview_df"
   ]
  },
  {
   "cell_type": "code",
   "execution_count": null,
   "metadata": {},
   "outputs": [],
   "source": [
    "# Create new dataframe with renamed columns for cleaner look using .rename\n",
    "renamed_overview_df = overview_df.rename(columns={\"school_name\":\"School Name\",\n",
    "                                                  \"type\":\"School Type\",\n",
    "                                                  \"size\":\"Total Students\",\n",
    "                                                  \"budget\":\"Total School Budget\"})\n",
    "renamed_overview_df.index.name = None\n",
    "#renamed_overview_df.head()"
   ]
  },
  {
   "cell_type": "code",
   "execution_count": null,
   "metadata": {},
   "outputs": [],
   "source": [
    "# Declare series and variable, extract data from each row of dataframe, calculate Per Student Budget, and store values for new column\n",
    "students_per_school = complete_df['school_name'].value_counts()\n",
    "budget_per_school = complete_df.groupby(['school_name']).mean()['budget']\n",
    "#students_per_school = renamed_overview_df[\"Total Students\"]\n",
    "#budget_per_school = renamed_overview_df[\"Total School Budget\"]\n",
    "budget_per_student = budget_per_school / students_per_school\n",
    "#budget_per_student\n",
    "school_type = school_data.set_index(['school_name'])['type']\n",
    "#school_type"
   ]
  },
  {
   "cell_type": "code",
   "execution_count": null,
   "metadata": {},
   "outputs": [],
   "source": [
    "# Using GroupBy on merged dataframe in order to separate the data into fields according to school name\n",
    "grouped_by_school_df = complete_df.groupby(\"school_name\")\n",
    "# grouped_by_school_df.head()"
   ]
  },
  {
   "cell_type": "code",
   "execution_count": null,
   "metadata": {},
   "outputs": [],
   "source": [
    "# Declare variables, calculate averages by school using .mean, and store values\n",
    "per_school_math_average = grouped_by_school_df[\"math_score\"].mean()\n",
    "per_school_reading_average = grouped_by_school_df[\"reading_score\"].mean()\n",
    "# per_school_math_average"
   ]
  },
  {
   "cell_type": "code",
   "execution_count": null,
   "metadata": {},
   "outputs": [],
   "source": [
    "# per_school_reading_average"
   ]
  },
  {
   "cell_type": "code",
   "execution_count": null,
   "metadata": {},
   "outputs": [],
   "source": [
    "# Declare variable, count number of students per school, and store values\n",
    "#per_school_total_students = grouped_by_school_df[\"Student ID\"].count()\n",
    "# per_school_total_students"
   ]
  },
  {
   "cell_type": "code",
   "execution_count": null,
   "metadata": {},
   "outputs": [],
   "source": [
    "# Math scores per school\n",
    "# Declare variables, apply conditional statements, calculate percentages, and store values\n",
    "per_school_passing_math = complete_df[complete_df[\"math_score\"] >= 70].groupby([\"school_name\"])\n",
    "per_school_passed_math = per_school_passing_math[\"Student ID\"].count()\n",
    "per_school_math_percentage = per_school_passed_math / students_per_school * 100\n",
    "#per_school_math_percentage"
   ]
  },
  {
   "cell_type": "code",
   "execution_count": null,
   "metadata": {},
   "outputs": [],
   "source": [
    "# Reading scores per school\n",
    "# Declare variables, apply conditional statements, calculate percentages, and store values\n",
    "per_school_passing_reading = complete_df[complete_df[\"reading_score\"] >= 70].groupby([\"school_name\"])\n",
    "per_school_passed_reading = per_school_passing_reading[\"Student ID\"].count()\n",
    "per_school_reading_percentage = per_school_passed_reading / students_per_school * 100\n",
    "# per_school_reading_percentage"
   ]
  },
  {
   "cell_type": "code",
   "execution_count": null,
   "metadata": {},
   "outputs": [],
   "source": [
    "# Both math and reading scores per school\n",
    "# Declare variable, apply conditional statement, and store value\n",
    "per_school_passing_both = complete_df[(complete_df[\"math_score\"] >= 70) & \n",
    "                                      (complete_df[\"reading_score\"] >= 70)].groupby([\"school_name\"])\n",
    "per_school_passed_both = per_school_passing_both[\"Student ID\"].count()\n",
    "\n",
    "# Declare variable, calculate percentage, and store value\n",
    "per_school_passed_both_percentage = per_school_passed_both / students_per_school * 100\n",
    "# per_school_passed_both_percentage"
   ]
  },
  {
   "cell_type": "code",
   "execution_count": null,
   "metadata": {},
   "outputs": [],
   "source": [
    "formatted_overview_df = pd.DataFrame({\"School Type\": school_type,\n",
    "                                \"Total Students\":students_per_school,\n",
    "                               \"Total School Budget\":budget_per_school,\n",
    "                               \"Per Student Budget\":budget_per_student,\n",
    "                               \"Average Math Score\":per_school_math_average,\n",
    "                               \"Average Reading Score\":per_school_reading_average,\n",
    "                               \"% Passing Math\":per_school_math_percentage,\n",
    "                               \"% Passing Reading\":per_school_reading_percentage,\n",
    "                               \"% Overall Passing\":per_school_passed_both_percentage})\n",
    "\n",
    "# formatted_overview_df[\"Total Students\"] = renamed_overview_df[\"Total Students\"].map(\"{:,}\".format)\n",
    "formatted_overview_df[\"Total School Budget\"] = renamed_overview_df[\"Total School Budget\"].map(\"${:,}\".format)\n",
    "#formatted_overview_df[\"Per Student Budget\"] = renamed_overview_df[\"Per Student Budget\"].map(\"${:,}\".format)\n",
    "#formatted_overview_df[\"Average Math Score\"] = renamed_overview_df[\"Average Math Score\"].map(\"{:,.4f}\".format)\n",
    "#formatted_overview_df[\"Average Reading Score\"] = renamed_overview_df[\"Average Reading Score\"].map(\"{:,.4f}\".format)\n",
    "#formatted_overview_df[\"% Passing Math\"] = renamed_overview_df[\"% Passing Math\"].map(\"{:,.2f}%\".format)\n",
    "#formatted_overview_df[\"% Passing Reading\"] = renamed_overview_df[\"% Passing Reading\"].map(\"{:,.2f}%\".format)\n",
    "#formatted_overview_df[\"% Overall Passing\"] = renamed_overview_df[\"% Overall Passing\"].map(\"{:,.2f}%\".format)\n",
    "\n",
    "formatted_overview_df"
   ]
  },
  {
   "cell_type": "code",
   "execution_count": null,
   "metadata": {},
   "outputs": [],
   "source": [
    "# Append previously defined overview dataframe with new columns and respective values\n",
    "renamed_overview_df[\"Per Student Budget\"] = budget_per_student\n",
    "renamed_overview_df[\"Average Math Score\"] = per_school_math_average\n",
    "renamed_overview_df[\"Average Reading Score\"] = per_school_reading_average\n",
    "renamed_overview_df[\"% Passing Math\"] = per_school_math_percentage\n",
    "renamed_overview_df[\"% Passing Reading\"] = per_school_reading_percentage\n",
    "renamed_overview_df[\"% Overall Passing\"] = per_school_passed_both_percentage\n",
    "renamed_overview_df.index.name = None\n",
    "renamed_overview_df"
   ]
  },
  {
   "cell_type": "code",
   "execution_count": null,
   "metadata": {},
   "outputs": [],
   "source": [
    "# Create another dataframe to hold formatted values for cleaner look in final School Summary table\n",
    "# Does this need to be in same cell as above???\n",
    "\n",
    "# formatted_overview_df = pd.DataFrame({\"Total Students\":[per_school_total_students],\n",
    "#                                \"Total School Budget\":[budget_per_school],\n",
    "#                                \"Per Student Budget\":[budget_per_student],\n",
    "#                                \"Average Math Score\":[per_school_math_average],\n",
    "#                                \"Average Reading Score\":[per_school_reading_average],\n",
    "#                                \"% Passing Math\":[per_school_math_percentage],\n",
    "#                                \"% Passing Reading\":[per_school_reading_percentage],\n",
    "#                                \"% Overall Passing\":[per_school_passed_both_percentage]})\n",
    "# formatted_overview_df"
   ]
  },
  {
   "cell_type": "code",
   "execution_count": null,
   "metadata": {},
   "outputs": [],
   "source": [
    "# Apply formatted values for cleaner look in final School Summary table\n",
    "# formatted_overview_df[\"Total Students\"] = renamed_overview_df[\"Total Students\"].map(\"{:,}\".format)\n",
    "# formatted_overview_df[\"Total School Budget\"] = renamed_overview_df[\"Total School Budget\"].map(\"${:,}\".format)\n",
    "# formatted_overview_df[\"Per Student Budget\"] = renamed_overview_df[\"Per Student Budget\"].map(\"${:2.0f}\".format)\n",
    "# formatted_overview_df[\"Average Math Score\"] = renamed_overview_df[\"Average Math Score\"].map(\"{:,.4f}\".format)\n",
    "# formatted_overview_df[\"Average Reading Score\"] = renamed_overview_df[\"Average Reading Score\"].map(\"{:,.4f}\".format)\n",
    "# formatted_overview_df[\"% Passing Math\"] = renamed_overview_df[\"% Passing Math\"].map(\"{:,.2f}%\".format)\n",
    "# formatted_overview_df[\"% Passing Reading\"] = renamed_overview_df[\"% Passing Reading\"].map(\"{:,.2f}%\".format)\n",
    "# formatted_overview_df[\"% Overall Passing\"] = renamed_overview_df[\"% Overall Passing\"].map(\"{:,.2f}%\".format)"
   ]
  },
  {
   "cell_type": "code",
   "execution_count": null,
   "metadata": {},
   "outputs": [],
   "source": [
    "# Format the values for cleaner look in final School Summary table\n",
    "\n",
    "# Should I create a new dataframe with formats instead of overwrite the existing one so \"per student budget\" remains float64???\n",
    "# I need the data types to remain numbers for slicing and placing into bins later\n",
    "# Do an .astype on these columns?  02:11:00 on lecture video 3\n",
    "\n",
    "# renamed_overview_df[\"Total Students\"] = renamed_overview_df[\"Total Students\"].map(\"{:,}\".format)\n",
    "# renamed_overview_df[\"Total School Budget\"] = renamed_overview_df[\"Total School Budget\"].map(\"${:,}\".format)\n",
    "renamed_overview_df[\"Per Student Budget\"] = renamed_overview_df[\"Per Student Budget\"].map(\"${:2.0f}\".format)\n",
    "renamed_overview_df[\"Average Math Score\"] = renamed_overview_df[\"Average Math Score\"].map(\"{:,.4f}\".format)\n",
    "renamed_overview_df[\"Average Reading Score\"] = renamed_overview_df[\"Average Reading Score\"].map(\"{:,.4f}\".format)\n",
    "renamed_overview_df[\"% Passing Math\"] = renamed_overview_df[\"% Passing Math\"].map(\"{:,.2f}%\".format)\n",
    "renamed_overview_df[\"% Passing Reading\"] = renamed_overview_df[\"% Passing Reading\"].map(\"{:,.2f}%\".format)\n",
    "renamed_overview_df[\"% Overall Passing\"] = renamed_overview_df[\"% Overall Passing\"].map(\"{:,.2f}%\".format)\n",
    "# renamed_overview_df.dtypes"
   ]
  },
  {
   "cell_type": "code",
   "execution_count": null,
   "metadata": {},
   "outputs": [],
   "source": [
    "# Print School Summary table to display\n",
    "formatted_overview_df.dtypes"
   ]
  },
  {
   "cell_type": "markdown",
   "metadata": {},
   "source": [
    "## Top Performing Schools (By % Overall Passing)"
   ]
  },
  {
   "cell_type": "markdown",
   "metadata": {},
   "source": [
    "* Sort and display the top five performing schools by % overall passing."
   ]
  },
  {
   "cell_type": "code",
   "execution_count": null,
   "metadata": {
    "scrolled": true
   },
   "outputs": [],
   "source": [
    "# Sort and display the top five performing schools by % overall passing (ascending=False must be passed in to sort high to low)\n",
    "top_five_df = formatted_overview_df.sort_values(\"% Overall Passing\", ascending = False)\n",
    "top_five_df.index.name = None\n",
    "top_five_df.head(5)"
   ]
  },
  {
   "cell_type": "markdown",
   "metadata": {},
   "source": [
    "## Bottom Performing Schools (By % Overall Passing)"
   ]
  },
  {
   "cell_type": "markdown",
   "metadata": {},
   "source": [
    "* Sort and display the five worst-performing schools by % overall passing."
   ]
  },
  {
   "cell_type": "code",
   "execution_count": null,
   "metadata": {},
   "outputs": [],
   "source": [
    "# Sort and display the worst five performing schools by % overall passing (default sort is ascending)\n",
    "worst_five_df = formatted_overview_df.sort_values(\"% Overall Passing\")\n",
    "worst_five_df.index.name = None\n",
    "worst_five_df.head(5)"
   ]
  },
  {
   "cell_type": "markdown",
   "metadata": {
    "collapsed": true
   },
   "source": [
    "## Math Scores by Grade"
   ]
  },
  {
   "cell_type": "markdown",
   "metadata": {},
   "source": [
    "* Create a table that lists the average math Score for students of each grade level (9th, 10th, 11th, 12th) at each school.\n",
    "\n",
    "  * Create a pandas series for each grade. Hint: use a conditional statement.\n",
    "  \n",
    "  * Group each series by school\n",
    "  \n",
    "  * Combine the series into a dataframe\n",
    "  \n",
    "  * Optional: give the displayed data cleaner formatting"
   ]
  },
  {
   "cell_type": "code",
   "execution_count": null,
   "metadata": {},
   "outputs": [],
   "source": [
    "# Create a pandas series for each grade\n",
    "# Using GroupBy on complete dataframe in order to separate the data into fields according to \"grade\"\n",
    "freshman_math = complete_df.loc[complete_df[\"grade\"] == \"9th\"].groupby(\"school_name\")[\"math_score\"].mean()\n",
    "sophomore_math = complete_df.loc[complete_df[\"grade\"] == \"10th\"].groupby(\"school_name\")[\"math_score\"].mean()\n",
    "junior_math = complete_df.loc[complete_df[\"grade\"] == \"11th\"].groupby(\"school_name\")[\"math_score\"].mean()\n",
    "senior_math = complete_df.loc[complete_df[\"grade\"] == \"12th\"].groupby(\"school_name\")[\"math_score\"].mean()"
   ]
  },
  {
   "cell_type": "code",
   "execution_count": null,
   "metadata": {},
   "outputs": [],
   "source": [
    "# Create dataframe using each series grouped by school name\n",
    "math_scores_df = pd.DataFrame({\"9th\":freshman_math,\n",
    "                            \"10th\":sophomore_math,\n",
    "                            \"11th\":junior_math,\n",
    "                            \"12th\":senior_math})\n",
    "math_scores_df.index.name = None\n",
    "# math_scores_df"
   ]
  },
  {
   "cell_type": "code",
   "execution_count": null,
   "metadata": {},
   "outputs": [],
   "source": [
    "# Format the values for cleaner look in final Math Scores by Grade table\n",
    "math_scores_df[\"9th\"] = math_scores_df[\"9th\"].map(\"{:,.4f}\".format)\n",
    "math_scores_df[\"10th\"] = math_scores_df[\"10th\"].map(\"{:,.4f}\".format)\n",
    "math_scores_df[\"11th\"] = math_scores_df[\"11th\"].map(\"{:,.4f}\".format)\n",
    "math_scores_df[\"12th\"] = math_scores_df[\"12th\"].map(\"{:,.4f}\".format)"
   ]
  },
  {
   "cell_type": "code",
   "execution_count": null,
   "metadata": {},
   "outputs": [],
   "source": [
    "# Print Math Scores by Grade table to display\n",
    "math_scores_df"
   ]
  },
  {
   "cell_type": "markdown",
   "metadata": {},
   "source": [
    "## Reading Score by Grade "
   ]
  },
  {
   "cell_type": "markdown",
   "metadata": {},
   "source": [
    "* Perform the same operations as above for reading scores"
   ]
  },
  {
   "cell_type": "code",
   "execution_count": null,
   "metadata": {},
   "outputs": [],
   "source": [
    "# Create a pandas series for each grade\n",
    "# Using GroupBy on complete dataframe in order to separate the data into fields according to \"grade\"\n",
    "freshman_reading = complete_df.loc[complete_df[\"grade\"] == \"9th\"].groupby(\"school_name\")[\"reading_score\"].mean()\n",
    "sophomore_reading = complete_df.loc[complete_df[\"grade\"] == \"10th\"].groupby(\"school_name\")[\"reading_score\"].mean()\n",
    "junior_reading = complete_df.loc[complete_df[\"grade\"] == \"11th\"].groupby(\"school_name\")[\"reading_score\"].mean()\n",
    "senior_reading = complete_df.loc[complete_df[\"grade\"] == \"12th\"].groupby(\"school_name\")[\"reading_score\"].mean()"
   ]
  },
  {
   "cell_type": "code",
   "execution_count": null,
   "metadata": {},
   "outputs": [],
   "source": [
    "# Create dataframe using each series grouped by school name\n",
    "reading_scores_df = pd.DataFrame({\"9th\":freshman_reading,\n",
    "                                  \"10th\":sophomore_reading,\n",
    "                                  \"11th\":junior_reading,\n",
    "                                  \"12th\":senior_reading})\n",
    "reading_scores_df.index.name = None\n",
    "# reading_scores_df"
   ]
  },
  {
   "cell_type": "code",
   "execution_count": null,
   "metadata": {},
   "outputs": [],
   "source": [
    "# Format the values for cleaner look in final Reading Scores by Grade table\n",
    "reading_scores_df[\"9th\"] = reading_scores_df[\"9th\"].map(\"{:,.4f}\".format)\n",
    "reading_scores_df[\"10th\"] = reading_scores_df[\"10th\"].map(\"{:,.4f}\".format)\n",
    "reading_scores_df[\"11th\"] = reading_scores_df[\"11th\"].map(\"{:,.4f}\".format)\n",
    "reading_scores_df[\"12th\"] = reading_scores_df[\"12th\"].map(\"{:,.4f}\".format)"
   ]
  },
  {
   "cell_type": "code",
   "execution_count": null,
   "metadata": {},
   "outputs": [],
   "source": [
    "# Print Reading Scores by Grade table to display\n",
    "reading_scores_df"
   ]
  },
  {
   "cell_type": "markdown",
   "metadata": {},
   "source": [
    "## Scores by School Spending"
   ]
  },
  {
   "cell_type": "markdown",
   "metadata": {},
   "source": [
    "* Create a table that breaks down school performances based on average Spending Ranges (Per Student). Use 4 reasonable bins to group school spending. Include in the table each of the following:\n",
    "  * Average Math Score\n",
    "  * Average Reading Score\n",
    "  * % Passing Math\n",
    "  * % Passing Reading\n",
    "  * Overall Passing Rate (Average of the above two)"
   ]
  },
  {
   "cell_type": "code",
   "execution_count": null,
   "metadata": {},
   "outputs": [],
   "source": [
    "# Create new dataframe to hold values from School Summary dataframe\n",
    "#scores_by_spending_df = renamed_overview_df[[\"Average Math Score\", \"Average Reading Score\", \"% Passing Math\",\n",
    "                                            # \"% Passing Reading\", \"% Overall Passing\"]]\n",
    "scores_by_spending_df = formatted_overview_df"
   ]
  },
  {
   "cell_type": "code",
   "execution_count": null,
   "metadata": {},
   "outputs": [],
   "source": [
    "# Create and name bins to group school spending\n",
    "\n",
    "bins = [0, 585, 630, 645, 680]\n",
    "bin_names = [\"<$585\", \"$585-$630\", \"$630-$645\", \"$645-$680\"]"
   ]
  },
  {
   "cell_type": "code",
   "execution_count": null,
   "metadata": {},
   "outputs": [],
   "source": [
    "# Create new column to display budget per student ranges (bins), slice the data, and place it into bins\n",
    "# Per Student Budget needs to be an int64 to slice data!!!\n",
    "scores_by_spending_df[\"Budget Spending per Student\"] = pd.cut(budget_per_student, bins, labels = bin_names, right=False)\n",
    "scores_by_spending_df"
   ]
  },
  {
   "cell_type": "markdown",
   "metadata": {},
   "source": [
    "## Scores by School Size"
   ]
  },
  {
   "cell_type": "markdown",
   "metadata": {},
   "source": [
    "* Perform the same operations as above, based on school size."
   ]
  },
  {
   "cell_type": "code",
   "execution_count": null,
   "metadata": {
    "scrolled": true
   },
   "outputs": [],
   "source": [
    "# Create and name bins to group school spending\n",
    "\n",
    "size_bins = [0, 1000, 2000, 5000]\n",
    "size_bin_names = [\"Small (<1,000)\", \"Medium (1,000-2,000)\", \"Large (2,000-5,000)\"]"
   ]
  },
  {
   "cell_type": "code",
   "execution_count": null,
   "metadata": {},
   "outputs": [],
   "source": [
    "# Create new column to display budget per student ranges (bins), slice the data, and place it into bins\n",
    "# Per Student Budget needs to be an int64 to slice data!!!\n",
    "formatted_overview_df[\"School Size\"] = pd.cut(students_per_school, size_bins, labels = size_bin_names, right=False)\n",
    "formatted_overview_df"
   ]
  },
  {
   "cell_type": "markdown",
   "metadata": {},
   "source": [
    "## Scores by School Type"
   ]
  },
  {
   "cell_type": "markdown",
   "metadata": {},
   "source": [
    "* Perform the same operations as above, based on school type"
   ]
  },
  {
   "cell_type": "code",
   "execution_count": null,
   "metadata": {},
   "outputs": [],
   "source": [
    "# Create new column to display budget per student ranges (bins), slice the data, and place it into bins\n",
    "# Per Student Budget needs to be an int64 to slice data!!!\n",
    "math_type = formatted_overview_df.groupby([\"School Type\"]).mean()[\"Average Math Score\"]\n",
    "reading_type = formatted_overview_df.groupby([\"School Type\"]).mean()[\"Average Reading Score\"]\n",
    "type_math_percent = formatted_overview_df.groupby([\"School Type\"]).mean()[\"% Passing Math\"]\n",
    "type_reading_percent = formatted_overview_df.groupby([\"School Type\"]).mean()[\"% Passing Reading\"]\n",
    "type_overall_percent = formatted_overview_df.groupby([\"School Type\"]).mean()[\"% Overall Passing\"]"
   ]
  },
  {
   "cell_type": "code",
   "execution_count": null,
   "metadata": {},
   "outputs": [],
   "source": [
    "# Create a summary dataframe\n",
    "school_type_summary_df = pd.DataFrame({\"Average Math Score\":math_type,\n",
    "                                       \"Average Reading Score\":reading_type,\n",
    "                                       \"% Passing Math\":type_math_percent,\n",
    "                                       \"% Passing Reading\":type_reading_percent,\n",
    "                                       \"% Overall Passing\":type_overall_percent})\n",
    "\n",
    "school_type_summary_df"
   ]
  },
  {
   "cell_type": "code",
   "execution_count": null,
   "metadata": {},
   "outputs": [],
   "source": []
  }
 ],
 "metadata": {
  "anaconda-cloud": {},
  "kernel_info": {
   "name": "python3"
  },
  "kernelspec": {
   "display_name": "Python 3",
   "language": "python",
   "name": "python3"
  },
  "language_info": {
   "codemirror_mode": {
    "name": "ipython",
    "version": 3
   },
   "file_extension": ".py",
   "mimetype": "text/x-python",
   "name": "python",
   "nbconvert_exporter": "python",
   "pygments_lexer": "ipython3",
   "version": "3.6.10"
  },
  "latex_envs": {
   "LaTeX_envs_menu_present": true,
   "autoclose": false,
   "autocomplete": true,
   "bibliofile": "biblio.bib",
   "cite_by": "apalike",
   "current_citInitial": 1,
   "eqLabelWithNumbers": true,
   "eqNumInitial": 1,
   "hotkeys": {
    "equation": "Ctrl-E",
    "itemize": "Ctrl-I"
   },
   "labels_anchors": false,
   "latex_user_defs": false,
   "report_style_numbering": false,
   "user_envs_cfg": false
  },
  "nteract": {
   "version": "0.8.4"
  }
 },
 "nbformat": 4,
 "nbformat_minor": 1
}
